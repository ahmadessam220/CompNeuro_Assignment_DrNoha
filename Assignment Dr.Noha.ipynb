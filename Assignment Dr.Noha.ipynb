{
 "cells": [
  {
   "cell_type": "code",
   "execution_count": 3,
   "id": "c9e8627e-ad43-43d2-9b96-2104e45c49b5",
   "metadata": {},
   "outputs": [
    {
     "name": "stdout",
     "output_type": "stream",
     "text": [
      "Output: [[0.70428218]]\n",
      "Cache: {'Z1': array([[-1.81908384],\n",
      "       [-0.69899661],\n",
      "       [-1.02864651],\n",
      "       [-0.04427566]]), 'A1': array([[0.13954384],\n",
      "       [0.33203473],\n",
      "       [0.26334659],\n",
      "       [0.48893289]]), 'Z2': array([[-0.802214  ],\n",
      "       [ 0.15366332],\n",
      "       [ 0.58776285]]), 'A2': array([[0.30955212],\n",
      "       [0.53834042],\n",
      "       [0.64285167]]), 'Z3': array([[0.86777339]]), 'A3': array([[0.70428218]])}\n"
     ]
    }
   ],
   "source": [
    "import numpy as np\n",
    "\n",
    "def sigmoid(x):\n",
    "    return 1 / (1 + np.exp(-x))\n",
    "\n",
    "def forward_propagation(X, parameters):\n",
    "    W1, b1, W2, b2, W3, b3 = parameters['W1'], parameters['b1'], parameters['W2'], parameters['b2'], parameters['W3'], parameters['b3']\n",
    "    \n",
    "    Z1 = np.dot(W1, X) + b1\n",
    "    A1 = sigmoid(Z1)\n",
    "    \n",
    "    Z2 = np.dot(W2, A1) + b2\n",
    "    A2 = sigmoid(Z2)\n",
    "    \n",
    "    Z3 = np.dot(W3, A2) + b3\n",
    "    A3 = sigmoid(Z3)\n",
    "    \n",
    "    cache = {'Z1': Z1, 'A1': A1, 'Z2': Z2, 'A2': A2, 'Z3': Z3, 'A3': A3}\n",
    "    \n",
    "    return A3, cache\n",
    "\n",
    "parameters = {\n",
    "    'W1': np.random.randn(4, 3),\n",
    "    'b1': np.zeros((4, 1)),\n",
    "    'W2': np.random.randn(3, 4),\n",
    "    'b2': np.zeros((3, 1)),\n",
    "    'W3': np.random.randn(1, 3),\n",
    "    'b3': np.zeros((1, 1))\n",
    "}\n",
    "\n",
    "X = np.random.randn(3, 1)\n",
    "\n",
    "output, cache = forward_propagation(X, parameters)\n",
    "print('Output:', output)\n",
    "print('Cache:', cache)\n"
   ]
  },
  {
   "cell_type": "code",
   "execution_count": null,
   "id": "5591cf29-ce0c-4cae-bc47-9f54928dad5a",
   "metadata": {},
   "outputs": [],
   "source": []
  }
 ],
 "metadata": {
  "kernelspec": {
   "display_name": "Python 3 (ipykernel)",
   "language": "python",
   "name": "python3"
  },
  "language_info": {
   "codemirror_mode": {
    "name": "ipython",
    "version": 3
   },
   "file_extension": ".py",
   "mimetype": "text/x-python",
   "name": "python",
   "nbconvert_exporter": "python",
   "pygments_lexer": "ipython3",
   "version": "3.12.4"
  }
 },
 "nbformat": 4,
 "nbformat_minor": 5
}
